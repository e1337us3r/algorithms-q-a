{
 "cells": [
  {
   "cell_type": "markdown",
   "metadata": {},
   "source": [
    "# Sentence Reversal\n",
    "\n",
    "## Problem\n",
    "\n",
    "Given a string of words, reverse all the words. For example:\n",
    "\n",
    "Given:\n",
    "    \n",
    "    'This is the best'\n",
    "\n",
    "Return:\n",
    "\n",
    "    'best the is This'\n",
    "\n",
    "As part of this exercise you should remove all leading and trailing whitespace. So that inputs such as:\n",
    "\n",
    "    '  space here'  and 'space here      '\n",
    "\n",
    "both become:\n",
    "\n",
    "    'here space'"
   ]
  },
  {
   "cell_type": "markdown",
   "metadata": {},
   "source": [
    "# Solution"
   ]
  },
  {
   "cell_type": "code",
   "execution_count": null,
   "metadata": {},
   "outputs": [],
   "source": [
    "def rev_word(s):   \n",
    "    if len(s) < 2:                       #if it is a single letter return itself\n",
    "        return s    \n",
    "    s=\" \"+s                              #insert a leading space so that the first workd in sentence gets added to result\n",
    "    res=\"\"\n",
    "    mark = len(s)\n",
    "    x = True                             #boolean flag for space checking\n",
    "    for i in range(len(s)-1,-1,-1): #O(n)\n",
    "        if s[i] == \" \" and x == False:\n",
    "            res += s[i+1:mark]+\" \"       #add space between words and append it to res\n",
    "            x = True                     #at the end of each word flip the flag so that algo. can ignore in between spaces and mark starting of next word\n",
    "        if x == True and s[i].isalpha(): #isalpha checks if s[i] is a letter\n",
    "            mark = i+1\n",
    "            x = False          \n",
    "            \n",
    "    return res[:-1]                      #there is a extra space at the end because we are adding that at line 10"
   ]
  },
  {
   "cell_type": "markdown",
   "metadata": {},
   "source": [
    "# Tests "
   ]
  },
  {
   "cell_type": "code",
   "execution_count": 10,
   "metadata": {},
   "outputs": [
    {
     "name": "stdout",
     "output_type": "stream",
     "text": [
      "ALL TEST CASES PASSED\n"
     ]
    }
   ],
   "source": [
    "from nose.tools import assert_equal\n",
    "\n",
    "class ReversalTest(object):\n",
    "    \n",
    "    def test(self,sol):\n",
    "        assert_equal(sol('    space before'),'before space')\n",
    "        assert_equal(sol('space after     '),'after space')\n",
    "        assert_equal(sol('   Hello John    how are you   '),'you are how John Hello')\n",
    "        assert_equal(sol('   Hello   '),'Hello')\n",
    "        assert_equal(sol(' H'),'H')\n",
    "        assert_equal(sol('H '),'H')\n",
    "        assert_equal(sol('1'),'1')\n",
    "        print (\"ALL TEST CASES PASSED\")\n",
    "t = ReversalTest()\n",
    "t.test(rev_word)"
   ]
  }
 ],
 "metadata": {
  "kernelspec": {
   "display_name": "Python 3",
   "language": "python",
   "name": "python3"
  },
  "language_info": {
   "codemirror_mode": {
    "name": "ipython",
    "version": 3
   },
   "file_extension": ".py",
   "mimetype": "text/x-python",
   "name": "python",
   "nbconvert_exporter": "python",
   "pygments_lexer": "ipython3",
   "version": "3.6.4"
  }
 },
 "nbformat": 4,
 "nbformat_minor": 1
}
