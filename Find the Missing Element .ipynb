{
 "cells": [
  {
   "cell_type": "markdown",
   "metadata": {},
   "source": [
    "# Find the Missing Element\n",
    "\n",
    "## Problem\n",
    "\n",
    "Consider an array of non-negative integers. A second array is formed by shuffling the elements of the first array and deleting a random element. Given these two arrays, find which element is missing in the second array. \n",
    "\n",
    "Here is an example input, the first array is shuffled and the number 5 is removed to construct the second array.\n",
    "\n",
    "Input:\n",
    "    \n",
    "    finder([1,2,3,4,5,6,7],[3,7,2,1,4,6])\n",
    "\n",
    "Output:\n",
    "\n",
    "    5 is the missing number\n",
    "\n",
    "## Solution"
   ]
  },
  {
   "cell_type": "code",
   "execution_count": 1,
   "metadata": {
    "collapsed": true
   },
   "outputs": [],
   "source": [
    "#finder can cause issues with large arrays with large numbers, time: o(n) space:O(1)\n",
    "def finder(ar1,ar2):\n",
    "    tot1=0\n",
    "    for i in range(len(ar2)):\n",
    "        tot1+=ar1[i]-ar2[i]\n",
    "    tot1+=ar1[-1]\n",
    "    return tot1\n",
    "\n",
    "#hastable solution, time o(n) space o(n)\n",
    "import collections as col#use default dict from collections so that\n",
    "def finder2(ar1,ar2):\n",
    "    temp = col.defaultdict(int)  #if a key doesnt exist, it auto adds it to dict and doesnt throw exception\n",
    "\n",
    "    for it in ar2:#add all items from array2 to dict,increment value if multiple exists\n",
    "        temp[it]+=1\n",
    "    for it in ar1:#now go through array1 and decrement values by 1, if hit 0, return that item \n",
    "        if temp[it] is 0:\n",
    "            return it\n",
    "        else:\n",
    "            temp[it]-=1\n",
    "\n",
    "#better solution with XOR, time o(n) space o(1)\n",
    "def finder3(ar1,ar2):\n",
    "    result = 0\n",
    "\n",
    "    for it in ar1+ar2:#if a item is encountered odd times in the end the result would be that item\n",
    "        result^=it\n",
    "    return result\n",
    "    "
   ]
  },
  {
   "cell_type": "code",
   "execution_count": 5,
   "metadata": {},
   "outputs": [
    {
     "name": "stdout",
     "output_type": "stream",
     "text": [
      "1.9 µs ± 8.62 ns per loop (mean ± std. dev. of 7 runs, 100000 loops each)\n",
      "5.27 µs ± 29.1 ns per loop (mean ± std. dev. of 7 runs, 100000 loops each)\n",
      "1.48 µs ± 26.1 ns per loop (mean ± std. dev. of 7 runs, 1000000 loops each)\n"
     ]
    }
   ],
   "source": [
    "arr1 = [1,2,3,4,5,6,7]\n",
    "arr2 = [3,7,2,1,4,6]\n",
    "%timeit finder(arr1,arr2)#best best-case run time n\n",
    "%timeit finder2(arr1,arr2)#speed difference will perish in large arrays,plus has better best case run than finder3\n",
    "%timeit finder3(arr1,arr2) "
   ]
  },
  {
   "cell_type": "code",
   "execution_count": 47,
   "metadata": {
    "scrolled": true
   },
   "outputs": [
    {
     "data": {
      "text/plain": [
       "5"
      ]
     },
     "execution_count": 47,
     "metadata": {},
     "output_type": "execute_result"
    }
   ],
   "source": [
    "arr1 = [5,5,7,7]\n",
    "arr2 = [5,7,7]\n",
    "\n",
    "finder(arr1,arr2)"
   ]
  },
  {
   "cell_type": "markdown",
   "metadata": {},
   "source": [
    "# Test"
   ]
  },
  {
   "cell_type": "code",
   "execution_count": 43,
   "metadata": {},
   "outputs": [
    {
     "name": "stdout",
     "output_type": "stream",
     "text": [
      "ALL TEST CASES PASSED\n"
     ]
    }
   ],
   "source": [
    "from nose.tools import assert_equal\n",
    "\n",
    "class TestFinder(object):\n",
    "    \n",
    "    def test(self,sol):\n",
    "        assert_equal(sol([5,5,7,7],[5,7,7]),5)\n",
    "        assert_equal(sol([1,2,3,4,5,6,7],[3,7,2,1,4,6]),5)\n",
    "        assert_equal(sol([9,8,7,6,5,4,3,2,1],[9,8,7,5,4,3,2,1]),6)\n",
    "        print ('ALL TEST CASES PASSED')\n",
    "\n",
    "# Run test\n",
    "t = TestFinder()\n",
    "t.test(finder)"
   ]
  }
 ],
 "metadata": {
  "kernelspec": {
   "display_name": "Python 3",
   "language": "python",
   "name": "python3"
  },
  "language_info": {
   "codemirror_mode": {
    "name": "ipython",
    "version": 3
   },
   "file_extension": ".py",
   "mimetype": "text/x-python",
   "name": "python",
   "nbconvert_exporter": "python",
   "pygments_lexer": "ipython3",
   "version": "3.6.2"
  }
 },
 "nbformat": 4,
 "nbformat_minor": 1
}
