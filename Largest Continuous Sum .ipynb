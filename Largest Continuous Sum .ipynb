{
 "cells": [
  {
   "cell_type": "markdown",
   "metadata": {},
   "source": [
    "# Largest Continuous Sum\n",
    "\n",
    "## Problem\n",
    "Given an array of integers (positive and negative) find the largest continuous sum. \n",
    "\n",
    "## Solution"
   ]
  },
  {
   "cell_type": "code",
   "execution_count": 2,
   "metadata": {},
   "outputs": [],
   "source": [
    "def sumarray(arr): #helper function\n",
    "    sum=0\n",
    "    for it in arr:\n",
    "        sum+=it\n",
    "    return sum\n",
    "def large_cont_sum(arr): #time O(n*((n*n+1)/2)^2) terrible\n",
    "    max = 0\n",
    "    for j in range(len(arr)):#go through all elements\n",
    "        temp = j + 1\n",
    "        for i in range(len(arr)): #calculate sum of sub of arr\n",
    "            tempma = sumarray(arr[j:temp]) #arr[i:i+1]...arr[i:] for each index\n",
    "            if tempma > max:\n",
    "                max = tempma\n",
    "            temp+=1 \n",
    "        \n",
    "    return max\n",
    "\n",
    "#much better algo with o(n)\n",
    "def maxSubArraySum(a):\n",
    "    #1,2,3,3,4,5,-10,10,-5,20,-50,30 iterate through this to understand it better\n",
    "    max_so_far =a[0]\n",
    "    curr_max = a[0]\n",
    "        \n",
    "    for i in range(1,len(a)):#start from second element and go through array\n",
    "        curr_max = max(a[i], curr_max + a[i]) #if current sum after adding current element is less than the element do a soft reset to start new sequence\n",
    "        max_so_far = max(max_so_far,curr_max) #update max if necessary \n",
    "            \n",
    "    return max_so_far\n"
   ]
  },
  {
   "cell_type": "code",
   "execution_count": 4,
   "metadata": {},
   "outputs": [
    {
     "data": {
      "text/plain": [
       "50"
      ]
     },
     "execution_count": 4,
     "metadata": {},
     "output_type": "execute_result"
    }
   ],
   "source": [
    "maxSubArraySum([1,2,3,3,4,5,-10,10,-5,20,-50,30,20])"
   ]
  },
  {
   "cell_type": "markdown",
   "metadata": {},
   "source": [
    "# Test"
   ]
  },
  {
   "cell_type": "code",
   "execution_count": 28,
   "metadata": {},
   "outputs": [
    {
     "name": "stdout",
     "output_type": "stream",
     "text": [
      "ALL TEST CASES PASSED\n"
     ]
    }
   ],
   "source": [
    "from nose.tools import assert_equal\n",
    "\n",
    "class LargeContTest(object):\n",
    "    def test(self,sol):\n",
    "        assert_equal(sol([1,2,-1,3,4,-1]),9)\n",
    "        assert_equal(sol([1,2,-1,3,4,10,10,-10,-1]),29)\n",
    "        assert_equal(sol([-1,1]),1)\n",
    "        print ('ALL TEST CASES PASSED')\n",
    "        \n",
    "#Run Test\n",
    "t = LargeContTest()\n",
    "t.test(large_cont_sum)"
   ]
  }
 ],
 "metadata": {
  "kernelspec": {
   "display_name": "Python 3",
   "language": "python",
   "name": "python3"
  },
  "language_info": {
   "codemirror_mode": {
    "name": "ipython",
    "version": 3
   },
   "file_extension": ".py",
   "mimetype": "text/x-python",
   "name": "python",
   "nbconvert_exporter": "python",
   "pygments_lexer": "ipython3",
   "version": "3.6.2"
  }
 },
 "nbformat": 4,
 "nbformat_minor": 1
}
